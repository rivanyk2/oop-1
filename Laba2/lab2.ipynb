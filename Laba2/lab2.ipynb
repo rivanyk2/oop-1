{
 "cells": [
  {
   "cell_type": "code",
   "execution_count": 17,
   "metadata": {},
   "outputs": [
    {
     "name": "stdout",
     "output_type": "stream",
     "text": [
      "12\n"
     ]
    }
   ],
   "source": [
    "a = 5\n",
    "b = 7 \n",
    "C = a + b\n",
    "print(C)"
   ]
  },
  {
   "cell_type": "code",
   "execution_count": 18,
   "metadata": {},
   "outputs": [
    {
     "name": "stdout",
     "output_type": "stream",
     "text": [
      " значення:  True\n",
      "Вивід True\n"
     ]
    }
   ],
   "source": [
    "print(\" значення: \", True)\n",
    "print(f\"Вивід {True}\")"
   ]
  },
  {
   "cell_type": "code",
   "execution_count": 19,
   "metadata": {},
   "outputs": [
    {
     "name": "stdout",
     "output_type": "stream",
     "text": [
      "94 є рівними 94\n",
      "956 різні значення 1552\n"
     ]
    }
   ],
   "source": [
    "print(abs(-94), f\"є рівними {abs(94)}\")\n",
    "print(abs(956), f\"різні значення {abs(1552)}\")"
   ]
  },
  {
   "cell_type": "code",
   "execution_count": 20,
   "metadata": {},
   "outputs": [
    {
     "name": "stdout",
     "output_type": "stream",
     "text": [
      "На позиції 0 знаходиться буква г\n",
      "На позиції 1 знаходиться буква л\n",
      "На позиції 2 знаходиться буква c\n"
     ]
    }
   ],
   "source": [
    "letters = [\"г\", \"л\", \"c\"]\n",
    "for i in range(len(letters)):\n",
    "    print(f\"На позиції {i} знаходиться буква {letters[i]}\")"
   ]
  },
  {
   "cell_type": "code",
   "execution_count": 21,
   "metadata": {},
   "outputs": [
    {
     "name": "stdout",
     "output_type": "stream",
     "text": [
      "Значить А=True\n"
     ]
    }
   ],
   "source": [
    "A = True\n",
    "print(\"Значить А=True\" if A else \"Значить А=False\")"
   ]
  },
  {
   "cell_type": "code",
   "execution_count": 22,
   "metadata": {},
   "outputs": [
    {
     "name": "stdout",
     "output_type": "stream",
     "text": [
      "division by zero\n",
      "А вот воно що!\n"
     ]
    }
   ],
   "source": [
    "A = 0\n",
    "try:\n",
    "    print(\"Що буде якщо\", 76/A, \"?\")\n",
    "except Exception as e:\n",
    "    print(e)\n",
    "finally:\n",
    "    print(\"А вот воно що!\")"
   ]
  },
  {
   "cell_type": "code",
   "execution_count": 23,
   "metadata": {},
   "outputs": [
    {
     "name": "stdout",
     "output_type": "stream",
     "text": [
      "# Звіт до першої лабораторної\n",
      "\n",
      "## Тема: перша програма на мові *Python*\n",
      "\n",
      "\n",
      "\n",
      "### Виконання роботи\n",
      "\n",
      "- Результати виконання завдання:\n",
      "\n",
      "    1. Виконали першу програму, результат виконання: ![alt](img1.png);\n",
      "\n",
      "    1. Модифікували програму та використали [Python Notebook для її виконання](nb.ipynb);\n",
      "\n",
      "    \n",
      "\n",
      "    \n",
      "\n",
      "    \n",
      "\n",
      "    1. Програма вивела значення\n",
      "\n",
      "    1. Отримано наступні результати Місяць: November, Пора року: Осінь\n",
      "\n",
      "    1. Навчились прості програми на мові Python\n",
      "\n",
      "\n",
      "\n",
      "\n",
      "\n",
      "\n",
      "\n",
      "+ 1.Скрін першої програми [фото](img1.png)\n",
      "\n",
      "+ 2.Скрін другої програми [фото](img2.png)\n",
      "\n",
      "\n",
      "\n",
      "\n",
      "\n",
      "\n",
      "\n",
      "___\n",
      "\n",
      "\n",
      "\n",
      "\n",
      "\n",
      "```Python\n",
      "\n",
      "from datetime import date\n",
      "\n",
      "\n",
      "\n",
      "# Отримати поточну дату\n",
      "\n",
      "today = date.today()\n",
      "\n",
      "month = today.month\n",
      "\n",
      "\n",
      "\n",
      "# Визначення пори року за місяцем\n",
      "\n",
      "if month in [12, 1, 2]:\n",
      "\n",
      "    season = \"Зима\"\n",
      "\n",
      "elif month in [3, 4, 5]:\n",
      "\n",
      "    season = \"Весна\"\n",
      "\n",
      "elif month in [6, 7, 8]:\n",
      "\n",
      "    season = \"Літо\"\n",
      "\n",
      "else:\n",
      "\n",
      "    season = \"Осінь\"\n",
      "\n",
      "\n",
      "\n",
      "# Вивід результатів\n",
      "\n",
      "print(f\"Місяць: {today.strftime('%B')}, Пора року: {season}\")\n",
      "\n",
      "\n",
      "\n",
      "```\n",
      "\n"
     ]
    }
   ],
   "source": [
    "with open(\"README.md\", \"r\", encoding=\"(utf-8)\") as f:\n",
    "    for line in f:\n",
    "        print(line)"
   ]
  },
  {
   "cell_type": "code",
   "execution_count": 24,
   "metadata": {},
   "outputs": [
    {
     "name": "stdout",
     "output_type": "stream",
     "text": [
      "Проста функція: <function <lambda> at 0x00000249910AD800>\n",
      "Це її виклик: Цей код написав: Роман Роман\n"
     ]
    }
   ],
   "source": [
    "this_is_lambda = lambda first, last: f'Цей код написав: {first} {last}'\n",
    "print(\"Проста функція:\", this_is_lambda)\n",
    "print(\"Це її виклик:\", this_is_lambda('Роман', 'Роман'))"
   ]
  }
 ],
 "metadata": {
  "kernelspec": {
   "display_name": "Python 3",
   "language": "python",
   "name": "python3"
  },
  "language_info": {
   "codemirror_mode": {
    "name": "ipython",
    "version": 3
   },
   "file_extension": ".py",
   "mimetype": "text/x-python",
   "name": "python",
   "nbconvert_exporter": "python",
   "pygments_lexer": "ipython3",
   "version": "3.13.0"
  }
 },
 "nbformat": 4,
 "nbformat_minor": 2
}
