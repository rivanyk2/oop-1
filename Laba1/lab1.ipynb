{
 "cells": [
  {
   "cell_type": "code",
   "execution_count": 1,
   "metadata": {},
   "outputs": [
    {
     "name": "stdout",
     "output_type": "stream",
     "text": [
      "Місяць: November, Пора року: Осінь\n"
     ]
    }
   ],
   "source": [
    "from datetime import date\n",
    "\n",
    "# Отримати поточну дату\n",
    "today = date.today()\n",
    "month = today.month\n",
    "\n",
    "# Визначення пори року за місяцем\n",
    "if month in [12, 1, 2]:\n",
    "    season = \"Зима\"\n",
    "elif month in [3, 4, 5]:\n",
    "    season = \"Весна\"\n",
    "elif month in [6, 7, 8]:\n",
    "    season = \"Літо\"\n",
    "else:\n",
    "    season = \"Осінь\"\n",
    "\n",
    "# Вивід результатів\n",
    "print(f\"Місяць: {today.strftime('%B')}, Пора року: {season}\")\n"
   ]
  },
  {
   "cell_type": "markdown",
   "metadata": {},
   "source": [
    "## Моя перша програма\n"
   ]
  }
 ],
 "metadata": {
  "kernelspec": {
   "display_name": "Python 3",
   "language": "python",
   "name": "python3"
  },
  "language_info": {
   "codemirror_mode": {
    "name": "ipython",
    "version": 3
   },
   "file_extension": ".py",
   "mimetype": "text/x-python",
   "name": "python",
   "nbconvert_exporter": "python",
   "pygments_lexer": "ipython3",
   "version": "3.13.0"
  }
 },
 "nbformat": 4,
 "nbformat_minor": 2
}
