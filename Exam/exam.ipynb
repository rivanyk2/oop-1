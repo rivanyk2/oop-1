{
 "cells": [
  {
   "cell_type": "markdown",
   "metadata": {},
   "source": [
    " Створити клас з конструктором в який передається два аргументи, стрічкового типу"
   ]
  },
  {
   "cell_type": "code",
   "execution_count": 9,
   "metadata": {},
   "outputs": [
    {
     "name": "stdout",
     "output_type": "stream",
     "text": [
      "Стрічка 1: Привіт\n",
      "Стрічка 2: Світ\n",
      "Об'єднані стрічки: Привіт Світ\n"
     ]
    }
   ],
   "source": [
    "class TwoStrings:\n",
    "    def __init__(self, string1, string2):\n",
    "        \"\"\"\n",
    "        Конструктор класу, що приймає два аргументи стрічкового типу.\n",
    "        :param string1: Перша стрічка\n",
    "        :param string2: Друга стрічка\n",
    "        \"\"\"\n",
    "        self.string1 = string1\n",
    "        self.string2 = string2\n",
    "\n",
    "    def combine_strings(self):\n",
    "        \"\"\"Метод для об'єднання двох стрічок.\"\"\"\n",
    "        return f\"{self.string1} {self.string2}\"\n",
    "\n",
    "# Створення об'єкта класу\n",
    "example = TwoStrings(\"Привіт\", \"Світ\")\n",
    "\n",
    "# Використання атрибутів і методу\n",
    "print(f\"Стрічка 1: {example.string1}\")  # Виведе: Привіт\n",
    "print(f\"Стрічка 2: {example.string2}\")  # Виведе: Світ\n",
    "print(f\"Об'єднані стрічки: {example.combine_strings()}\")  # Виведе: Привіт Світ\n"
   ]
  }
 ],
 "metadata": {
  "kernelspec": {
   "display_name": "Python 3",
   "language": "python",
   "name": "python3"
  },
  "language_info": {
   "codemirror_mode": {
    "name": "ipython",
    "version": 3
   },
   "file_extension": ".py",
   "mimetype": "text/x-python",
   "name": "python",
   "nbconvert_exporter": "python",
   "pygments_lexer": "ipython3",
   "version": "3.13.0"
  }
 },
 "nbformat": 4,
 "nbformat_minor": 2
}
